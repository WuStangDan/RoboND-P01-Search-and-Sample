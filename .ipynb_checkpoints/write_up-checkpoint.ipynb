{
 "cells": [
  {
   "cell_type": "markdown",
   "metadata": {},
   "source": [
    "# Project: Search and Sample Return\n",
    "\n",
    "[//]: # (Image References)\n",
    "\n",
    "[image1]: ./output/color_thresh.png\n",
    "[image2]: ./output/video-frame.png\n",
    "[image3]: ./output/rover-results.png\n",
    "\n",
    "\n",
    "### Notebook Analysis\n",
    "#### Color Threshold Function\n",
    "Originally the color threshold function only acted as a lower bound, as any color value higher than the threshold would be allowed. After some initial testing I found that this would be sufficient for finding navigable terrain. This is shown in the image below. However, without an upper threshold it was very difficult to find the pixels of the rock without including the surronding ground and the sky. As shown below, adding an upper threshold allowed for the rock to be clearly thresholded from the original image.\n",
    "\n",
    "![Color Threshold][image1]\n",
    "\n",
    "#### process_image()\n",
    "The process_image() function pulls all of the predefined functions into a single step. The two steps are the perspective transform and navigable terrain / rock color thresholding. Next these thresholded pixels are converted to rover-centric coordinates and then into the world coordinates. To convert from rover-centric coordinates to world coordinates the robots current X, Y, and yaw positions are needed. These are supplied by the databucket in the notebook.\n",
    "\n",
    "After this the locations cooresponding to the navigable terrain and rocks are displayed on the world map. The obstacled terrain is also displayed as all the pixels that aren't the navigable terrain. The original image, warped image, world map, and the color threshold are all displayed after processing the image. This yeilds the results shown in the final.mp4, a frame of which is shown below.\n",
    "\n",
    "\n",
    "\n",
    "![Process Image][image2]\n",
    "\n",
    "### Autonomous Navigation and Mapping\n",
    "\n",
    "#### Perception Step\n",
    "The perception step is almost exactly like process_image() from the notebook. The main exceptions is that we don't return any images. Instead return add the coordinates of the navigable terrain, obstacled terrain, and the rock locations to the worldmap of the rover. We also add angles and distance to all the navigable terrain pixels to the rover. Other than that, everything is the same.\n",
    "\n",
    "#### Decision Step\n",
    "The decision step already contained logic that allowed the Rover to navigate the map quite successfully. However an obvious short coming was the fact that once it stopped it always turned the same direction to find a way out. I added a value in the Rover class in drive_rover.py so that I could retain the last steering value before the Rover switched from forward mode to stop mode. Then I added logic that whatever direction the Rover was heading before switching modes, it would turn in the opposite when leaving. I choose the opposite direction because if there was a Y intersection and the Rover happened to turn right, if it found a dead end you would want it to turn around by turning left. This would increase the chances that once it turned back to intersection it would try the previously unexplored route.\n",
    "\n",
    "\n",
    "#### Autonomous Results\n",
    "The Rover is able to find a rock and maintain a fidelity of around 75% once it has mapped atleast 40% of the environment as shown below.\n",
    "\n",
    "\n",
    "\n",
    "An area of improvement would be to log the X, Y locations the Rover has already explored and avoid steering towards \n",
    "\n",
    "\n",
    "#### Simulator Settings\n",
    "The settings I used for the simulator was 1024x768 resolution with good graphics quality. Using these settings I was averaging around 20 FPS of the according to the terminal printout.\n",
    "\n",
    "![][image3]\n"
   ]
  },
  {
   "cell_type": "code",
   "execution_count": null,
   "metadata": {},
   "outputs": [],
   "source": []
  }
 ],
 "metadata": {
  "kernelspec": {
   "display_name": "Python [conda env:RoboND]",
   "language": "python",
   "name": "conda-env-RoboND-py"
  },
  "language_info": {
   "codemirror_mode": {
    "name": "ipython",
    "version": 3
   },
   "file_extension": ".py",
   "mimetype": "text/x-python",
   "name": "python",
   "nbconvert_exporter": "python",
   "pygments_lexer": "ipython3",
   "version": "3.5.2"
  },
  "widgets": {
   "state": {},
   "version": "1.1.2"
  }
 },
 "nbformat": 4,
 "nbformat_minor": 2
}
